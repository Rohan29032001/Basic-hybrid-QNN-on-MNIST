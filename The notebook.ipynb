{
 "cells": [
  {
   "cell_type": "markdown",
   "id": "7b3552d9",
   "metadata": {},
   "source": [
    "# Hybrid QNN for the classification of handwritten digit images of 4 vs 9"
   ]
  },
  {
   "cell_type": "code",
   "execution_count": 1,
   "id": "2ffcaf39",
   "metadata": {},
   "outputs": [],
   "source": [
    "import os\n",
    "os.environ[\"KMP_DUPLICATE_LIB_OK\"]=\"TRUE\""
   ]
  },
  {
   "cell_type": "code",
   "execution_count": 2,
   "id": "3babd2bd",
   "metadata": {},
   "outputs": [],
   "source": [
    "import numpy as np\n",
    "import matplotlib.pyplot as plt\n",
    "\n",
    "import torch\n",
    "from torch.autograd import Function\n",
    "from torchvision import datasets, transforms\n",
    "import torch.optim as optim\n",
    "import torch.nn as nn\n",
    "import torch.nn.functional as F\n",
    "\n",
    "import qiskit\n",
    "from qiskit import transpile, assemble\n",
    "from qiskit.visualization import *"
   ]
  },
  {
   "cell_type": "markdown",
   "id": "d1f44cca",
   "metadata": {},
   "source": [
    "### Defining the quantum circuit:\n",
    "- The circuit will do the following:\n",
    "    - Set the qubits to superposition\n",
    "    - Have a layer of Ry gates\n",
    "    - Have a layer of CNOTs"
   ]
  },
  {
   "cell_type": "code",
   "execution_count": 3,
   "id": "b8ca7ffc",
   "metadata": {},
   "outputs": [],
   "source": [
    "class QuantumCircuit:\n",
    "    \"\"\" \n",
    "    This class provides a simple interface for interaction \n",
    "    with the quantum circuit \n",
    "    \"\"\"\n",
    "    \n",
    "    def __init__(self, n_qubits, backend, shots):\n",
    "        # --- Circuit definition ---\n",
    "        self._circuit = qiskit.QuantumCircuit(n_qubits)\n",
    "        \n",
    "        all_qubits = [i for i in range(n_qubits)]\n",
    "        self.theta = qiskit.circuit.Parameter('theta')\n",
    "        \n",
    "        self._circuit.h(all_qubits)\n",
    "        self._circuit.barrier()\n",
    "        self._circuit.ry(self.theta, all_qubits)\n",
    "        for j in range(n_qubits-1):\n",
    "            self._circuit.cx(all_qubits[j],all_qubits[j+1])\n",
    "            \n",
    "        \n",
    "        \n",
    "        self._circuit.measure_all()\n",
    "        # ---------------------------\n",
    "\n",
    "        self.backend = backend\n",
    "        self.shots = shots\n",
    "    \n",
    "    def run(self, thetas):\n",
    "        t_qc = transpile(self._circuit,\n",
    "                         self.backend)\n",
    "        qobj = assemble(t_qc,\n",
    "                        shots=self.shots,\n",
    "                        parameter_binds = [{self.theta: theta} for theta in thetas])\n",
    "        job = self.backend.run(qobj)\n",
    "        result = job.result().get_counts()\n",
    "        \n",
    "        counts = np.array(list(result.values()))\n",
    "        states = np.array(list(result.keys())).astype(float)\n",
    "        \n",
    "        # Compute probabilities for each state\n",
    "        probabilities = counts / self.shots\n",
    "        # Get state expectation\n",
    "        expectation = np.sum(states * probabilities)\n",
    "        \n",
    "        return np.array([expectation])"
   ]
  },
  {
   "cell_type": "markdown",
   "id": "da5a2e8c",
   "metadata": {},
   "source": [
    "### Visualizing the quantum circuit:"
   ]
  },
  {
   "cell_type": "code",
   "execution_count": 4,
   "id": "15e42bad",
   "metadata": {},
   "outputs": [
    {
     "name": "stdout",
     "output_type": "stream",
     "text": [
      "Expected value for rotation pi 576.3299999999999\n"
     ]
    },
    {
     "name": "stderr",
     "output_type": "stream",
     "text": [
      "C:\\Users\\rohan\\anaconda3\\lib\\site-packages\\qiskit\\circuit\\tools\\pi_check.py:49: SymPyDeprecationWarning: \n",
      "\n",
      "The expr_free_symbols property is deprecated. Use free_symbols to get\n",
      "the free symbols of an expression.\n",
      "\n",
      "See https://docs.sympy.org/latest/explanation/active-deprecations.html#deprecated-expr-free-symbols\n",
      "for details.\n",
      "\n",
      "This has been deprecated since SymPy version 1.9. It\n",
      "will be removed in a future version of SymPy.\n",
      "\n",
      "  syms = inpt._symbol_expr.expr_free_symbols\n",
      "C:\\Users\\rohan\\anaconda3\\lib\\site-packages\\qiskit\\circuit\\tools\\pi_check.py:49: SymPyDeprecationWarning: \n",
      "\n",
      "The expr_free_symbols property is deprecated. Use free_symbols to get\n",
      "the free symbols of an expression.\n",
      "\n",
      "See https://docs.sympy.org/latest/explanation/active-deprecations.html#deprecated-expr-free-symbols\n",
      "for details.\n",
      "\n",
      "This has been deprecated since SymPy version 1.9. It\n",
      "will be removed in a future version of SymPy.\n",
      "\n",
      "  syms = inpt._symbol_expr.expr_free_symbols\n",
      "C:\\Users\\rohan\\anaconda3\\lib\\site-packages\\qiskit\\circuit\\tools\\pi_check.py:49: SymPyDeprecationWarning: \n",
      "\n",
      "The expr_free_symbols property is deprecated. Use free_symbols to get\n",
      "the free symbols of an expression.\n",
      "\n",
      "See https://docs.sympy.org/latest/explanation/active-deprecations.html#deprecated-expr-free-symbols\n",
      "for details.\n",
      "\n",
      "This has been deprecated since SymPy version 1.9. It\n",
      "will be removed in a future version of SymPy.\n",
      "\n",
      "  syms = inpt._symbol_expr.expr_free_symbols\n",
      "C:\\Users\\rohan\\anaconda3\\lib\\site-packages\\qiskit\\circuit\\tools\\pi_check.py:49: SymPyDeprecationWarning: \n",
      "\n",
      "The expr_free_symbols property is deprecated. Use free_symbols to get\n",
      "the free symbols of an expression.\n",
      "\n",
      "See https://docs.sympy.org/latest/explanation/active-deprecations.html#deprecated-expr-free-symbols\n",
      "for details.\n",
      "\n",
      "This has been deprecated since SymPy version 1.9. It\n",
      "will be removed in a future version of SymPy.\n",
      "\n",
      "  syms = inpt._symbol_expr.expr_free_symbols\n",
      "C:\\Users\\rohan\\anaconda3\\lib\\site-packages\\qiskit\\circuit\\tools\\pi_check.py:49: SymPyDeprecationWarning: \n",
      "\n",
      "The expr_free_symbols property is deprecated. Use free_symbols to get\n",
      "the free symbols of an expression.\n",
      "\n",
      "See https://docs.sympy.org/latest/explanation/active-deprecations.html#deprecated-expr-free-symbols\n",
      "for details.\n",
      "\n",
      "This has been deprecated since SymPy version 1.9. It\n",
      "will be removed in a future version of SymPy.\n",
      "\n",
      "  syms = inpt._symbol_expr.expr_free_symbols\n",
      "C:\\Users\\rohan\\anaconda3\\lib\\site-packages\\qiskit\\circuit\\tools\\pi_check.py:49: SymPyDeprecationWarning: \n",
      "\n",
      "The expr_free_symbols property is deprecated. Use free_symbols to get\n",
      "the free symbols of an expression.\n",
      "\n",
      "See https://docs.sympy.org/latest/explanation/active-deprecations.html#deprecated-expr-free-symbols\n",
      "for details.\n",
      "\n",
      "This has been deprecated since SymPy version 1.9. It\n",
      "will be removed in a future version of SymPy.\n",
      "\n",
      "  syms = inpt._symbol_expr.expr_free_symbols\n",
      "C:\\Users\\rohan\\anaconda3\\lib\\site-packages\\qiskit\\circuit\\tools\\pi_check.py:49: SymPyDeprecationWarning: \n",
      "\n",
      "The expr_free_symbols property is deprecated. Use free_symbols to get\n",
      "the free symbols of an expression.\n",
      "\n",
      "See https://docs.sympy.org/latest/explanation/active-deprecations.html#deprecated-expr-free-symbols\n",
      "for details.\n",
      "\n",
      "This has been deprecated since SymPy version 1.9. It\n",
      "will be removed in a future version of SymPy.\n",
      "\n",
      "  syms = inpt._symbol_expr.expr_free_symbols\n",
      "C:\\Users\\rohan\\anaconda3\\lib\\site-packages\\qiskit\\circuit\\tools\\pi_check.py:49: SymPyDeprecationWarning: \n",
      "\n",
      "The expr_free_symbols property is deprecated. Use free_symbols to get\n",
      "the free symbols of an expression.\n",
      "\n",
      "See https://docs.sympy.org/latest/explanation/active-deprecations.html#deprecated-expr-free-symbols\n",
      "for details.\n",
      "\n",
      "This has been deprecated since SymPy version 1.9. It\n",
      "will be removed in a future version of SymPy.\n",
      "\n",
      "  syms = inpt._symbol_expr.expr_free_symbols\n"
     ]
    },
    {
     "data": {
      "text/html": [
       "<pre style=\"word-wrap: normal;white-space: pre;background: #fff0;line-height: 1.1;font-family: &quot;Courier New&quot;,Courier,monospace\">        ┌───┐ ░ ┌───────────┐                ░ ┌─┐         \n",
       "   q_0: ┤ H ├─░─┤ RY(theta) ├──■─────────────░─┤M├─────────\n",
       "        ├───┤ ░ ├───────────┤┌─┴─┐           ░ └╥┘┌─┐      \n",
       "   q_1: ┤ H ├─░─┤ RY(theta) ├┤ X ├──■────────░──╫─┤M├──────\n",
       "        ├───┤ ░ ├───────────┤└───┘┌─┴─┐      ░  ║ └╥┘┌─┐   \n",
       "   q_2: ┤ H ├─░─┤ RY(theta) ├─────┤ X ├──■───░──╫──╫─┤M├───\n",
       "        ├───┤ ░ ├───────────┤     └───┘┌─┴─┐ ░  ║  ║ └╥┘┌─┐\n",
       "   q_3: ┤ H ├─░─┤ RY(theta) ├──────────┤ X ├─░──╫──╫──╫─┤M├\n",
       "        └───┘ ░ └───────────┘          └───┘ ░  ║  ║  ║ └╥┘\n",
       "meas: 4/════════════════════════════════════════╩══╩══╩══╩═\n",
       "                                                0  1  2  3 </pre>"
      ],
      "text/plain": [
       "        ┌───┐ ░ ┌───────────┐                ░ ┌─┐         \n",
       "   q_0: ┤ H ├─░─┤ RY(theta) ├──■─────────────░─┤M├─────────\n",
       "        ├───┤ ░ ├───────────┤┌─┴─┐           ░ └╥┘┌─┐      \n",
       "   q_1: ┤ H ├─░─┤ RY(theta) ├┤ X ├──■────────░──╫─┤M├──────\n",
       "        ├───┤ ░ ├───────────┤└───┘┌─┴─┐      ░  ║ └╥┘┌─┐   \n",
       "   q_2: ┤ H ├─░─┤ RY(theta) ├─────┤ X ├──■───░──╫──╫─┤M├───\n",
       "        ├───┤ ░ ├───────────┤     └───┘┌─┴─┐ ░  ║  ║ └╥┘┌─┐\n",
       "   q_3: ┤ H ├─░─┤ RY(theta) ├──────────┤ X ├─░──╫──╫──╫─┤M├\n",
       "        └───┘ ░ └───────────┘          └───┘ ░  ║  ║  ║ └╥┘\n",
       "meas: 4/════════════════════════════════════════╩══╩══╩══╩═\n",
       "                                                0  1  2  3 "
      ]
     },
     "execution_count": 4,
     "metadata": {},
     "output_type": "execute_result"
    }
   ],
   "source": [
    "simulator = qiskit.Aer.get_backend('aer_simulator')\n",
    "\n",
    "circuit = QuantumCircuit(4, simulator, 100)\n",
    "print('Expected value for rotation pi {}'.format(circuit.run([np.pi])[0]))\n",
    "circuit._circuit.draw()"
   ]
  },
  {
   "cell_type": "code",
   "execution_count": 5,
   "id": "7a6fcbb6",
   "metadata": {},
   "outputs": [],
   "source": [
    "class HybridFunction(Function):\n",
    "    \"\"\" Hybrid quantum - classical function definition \"\"\"\n",
    "    \n",
    "    @staticmethod\n",
    "    def forward(ctx, input, quantum_circuit, shift):\n",
    "        \"\"\" Forward pass computation \"\"\"\n",
    "        ctx.shift = shift\n",
    "        ctx.quantum_circuit = quantum_circuit\n",
    "\n",
    "        expectation_z = ctx.quantum_circuit.run(input[0].tolist())\n",
    "        result = torch.tensor([expectation_z])\n",
    "        ctx.save_for_backward(input, result)\n",
    "\n",
    "        return result\n",
    "        \n",
    "    @staticmethod\n",
    "    def backward(ctx, grad_output):\n",
    "        \"\"\" Backward pass computation \"\"\"\n",
    "        input, expectation_z = ctx.saved_tensors\n",
    "        input_list = np.array(input.tolist())\n",
    "        \n",
    "        shift_right = input_list + np.ones(input_list.shape) * ctx.shift\n",
    "        shift_left = input_list - np.ones(input_list.shape) * ctx.shift\n",
    "        \n",
    "        gradients = []\n",
    "        for i in range(len(input_list)):\n",
    "            expectation_right = ctx.quantum_circuit.run(shift_right[i])\n",
    "            expectation_left  = ctx.quantum_circuit.run(shift_left[i])\n",
    "            \n",
    "            gradient = torch.tensor([expectation_right]) - torch.tensor([expectation_left])\n",
    "            gradients.append(gradient)\n",
    "        gradients = np.array([gradients]).T\n",
    "        return torch.tensor([gradients]).float() * grad_output.float(), None, None\n",
    "\n",
    "class Hybrid(nn.Module):\n",
    "    \"\"\" Hybrid quantum - classical layer definition \"\"\"\n",
    "    \n",
    "    def __init__(self, backend, shots, shift):\n",
    "        super(Hybrid, self).__init__()\n",
    "        self.quantum_circuit = QuantumCircuit(1, backend, shots)\n",
    "        self.shift = shift\n",
    "        \n",
    "    def forward(self, input):\n",
    "        return HybridFunction.apply(input, self.quantum_circuit, self.shift)"
   ]
  },
  {
   "cell_type": "markdown",
   "id": "e7430457",
   "metadata": {},
   "source": [
    "### Data loading and visualizing:"
   ]
  },
  {
   "cell_type": "code",
   "execution_count": 6,
   "id": "0942a803",
   "metadata": {},
   "outputs": [],
   "source": [
    "# Concentrating on the first 100 samples\n",
    "n_samples = 100\n",
    "\n",
    "X_train = datasets.MNIST(root='./data', train=True, download=True,\n",
    "                         transform=transforms.Compose([transforms.ToTensor()]))\n",
    "\n",
    "# Leaving only labels 4 and 9 \n",
    "idx = np.append(np.where(X_train.targets == 4)[0][:n_samples], \n",
    "                np.where(X_train.targets == 9)[0][:n_samples])\n",
    "\n",
    "X_train.data = X_train.data[idx]\n",
    "X_train.targets = X_train.targets[idx]\n",
    "\n",
    "# Set 4's label to 0 and 9's label to 1 \n",
    "X_train.targets[X_train.targets==4] = 0\n",
    "X_train.targets[X_train.targets==9] = 1\n",
    "\n",
    "train_loader = torch.utils.data.DataLoader(X_train, batch_size=1, shuffle=True)"
   ]
  },
  {
   "cell_type": "code",
   "execution_count": 7,
   "id": "578f2ffc",
   "metadata": {},
   "outputs": [
    {
     "data": {
      "image/png": "[encoded data removed]",
      "text/plain": [
       "<Figure size 1000x300 with 8 Axes>"
      ]
     },
     "metadata": {},
     "output_type": "display_data"
    }
   ],
   "source": [
    "n_samples_show = 8\n",
    "\n",
    "data_iter = iter(train_loader)\n",
    "fig, axes = plt.subplots(nrows=1, ncols=n_samples_show, figsize=(10, 3))\n",
    "\n",
    "while n_samples_show > 0:\n",
    "    images, targets = data_iter.__next__()\n",
    "\n",
    "    axes[n_samples_show - 1].imshow(images[0].numpy().squeeze(), cmap='gray')\n",
    "    axes[n_samples_show - 1].set_xticks([])\n",
    "    axes[n_samples_show - 1].set_yticks([])\n",
    "    axes[n_samples_show - 1].set_title(\"Labeled: {}\".format(targets.item()))\n",
    "    \n",
    "    n_samples_show -= 1"
   ]
  },
  {
   "cell_type": "code",
   "execution_count": 8,
   "id": "a477eeee",
   "metadata": {},
   "outputs": [],
   "source": [
    "n_samples = 50\n",
    "\n",
    "X_test = datasets.MNIST(root='./data', train=False, download=True,\n",
    "                        transform=transforms.Compose([transforms.ToTensor()]))\n",
    "\n",
    "idx = np.append(np.where(X_test.targets == 4)[0][:n_samples], \n",
    "                np.where(X_test.targets == 9)[0][:n_samples])\n",
    "\n",
    "X_test.data = X_test.data[idx]\n",
    "X_test.targets = X_test.targets[idx]\n",
    "\n",
    "# Set 4's label to 0 and 9's label to 1\n",
    "X_test.targets[X_test.targets==4] = 0\n",
    "X_test.targets[X_test.targets==9] = 1\n",
    "\n",
    "test_loader = torch.utils.data.DataLoader(X_test, batch_size=1, shuffle=True)"
   ]
  },
  {
   "cell_type": "code",
   "execution_count": 9,
   "id": "5af61448",
   "metadata": {},
   "outputs": [
    {
     "data": {
      "image/png": "[encoded data removed]",
      "text/plain": [
       "<Figure size 1000x300 with 8 Axes>"
      ]
     },
     "metadata": {},
     "output_type": "display_data"
    }
   ],
   "source": [
    "n_samples_show = 8\n",
    "\n",
    "data_iter = iter(test_loader)\n",
    "fig, axes = plt.subplots(nrows=1, ncols=n_samples_show, figsize=(10, 3))\n",
    "\n",
    "while n_samples_show > 0:\n",
    "    images, targets = data_iter.__next__()\n",
    "\n",
    "    axes[n_samples_show - 1].imshow(images[0].numpy().squeeze(), cmap='gray')\n",
    "    axes[n_samples_show - 1].set_xticks([])\n",
    "    axes[n_samples_show - 1].set_yticks([])\n",
    "    axes[n_samples_show - 1].set_title(\"Labeled: {}\".format(targets.item()))\n",
    "    \n",
    "    n_samples_show -= 1"
   ]
  },
  {
   "cell_type": "markdown",
   "id": "f44f883b",
   "metadata": {},
   "source": [
    "### The model:"
   ]
  },
  {
   "cell_type": "code",
   "execution_count": 10,
   "id": "1ad949c1",
   "metadata": {},
   "outputs": [],
   "source": [
    "class Net(nn.Module):\n",
    "    def __init__(self):\n",
    "        super(Net, self).__init__()\n",
    "        self.conv1 = nn.Conv2d(1, 6, kernel_size=5)\n",
    "        self.conv2 = nn.Conv2d(6, 16, kernel_size=5)\n",
    "        self.dropout = nn.Dropout2d()\n",
    "        self.fc1 = nn.Linear(256, 64)\n",
    "        self.fc2 = nn.Linear(64, 1)\n",
    "        self.hybrid = Hybrid(qiskit.Aer.get_backend('aer_simulator'), 100, np.pi / 2)\n",
    "\n",
    "    def forward(self, x):\n",
    "        x = F.relu(self.conv1(x))\n",
    "        x = F.max_pool2d(x, 2)\n",
    "        x = F.relu(self.conv2(x))\n",
    "        x = F.max_pool2d(x, 2)\n",
    "        x = self.dropout(x)\n",
    "        x = x.view(1, -1)\n",
    "        x = F.relu(self.fc1(x))\n",
    "        x = self.fc2(x)\n",
    "        x = self.hybrid(x)\n",
    "        return torch.cat((x, 1 - x), -1)"
   ]
  },
  {
   "cell_type": "markdown",
   "id": "ba64aaca",
   "metadata": {},
   "source": [
    "### The training loop:"
   ]
  },
  {
   "cell_type": "code",
   "execution_count": 11,
   "id": "430a3e13",
   "metadata": {},
   "outputs": [
    {
     "name": "stderr",
     "output_type": "stream",
     "text": [
      "C:\\Users\\rohan\\AppData\\Local\\Temp\\ipykernel_26500\\2571825612.py:11: UserWarning: Creating a tensor from a list of numpy.ndarrays is extremely slow. Please consider converting the list to a single numpy.ndarray with numpy.array() before converting to a tensor. (Triggered internally at C:\\actions-runner\\_work\\pytorch\\pytorch\\builder\\windows\\pytorch\\torch\\csrc\\utils\\tensor_new.cpp:248.)\n",
      "  result = torch.tensor([expectation_z])\n",
      "C:\\Users\\rohan\\AppData\\Local\\Temp\\ipykernel_26500\\2571825612.py:32: FutureWarning: The input object of type 'Tensor' is an array-like implementing one of the corresponding protocols (`__array__`, `__array_interface__` or `__array_struct__`); but not a sequence (or 0-D). In the future, this object will be coerced as if it was first converted using `np.array(obj)`. To retain the old behaviour, you have to either modify the type 'Tensor', or assign to an empty array created with `np.empty(correct_shape, dtype=object)`.\n",
      "  gradients = np.array([gradients]).T\n"
     ]
    },
    {
     "name": "stdout",
     "output_type": "stream",
     "text": [
      "Training [5%]\tLoss: -0.5321\n",
      "Training [10%]\tLoss: -0.8170\n",
      "Training [15%]\tLoss: -0.8705\n",
      "Training [20%]\tLoss: -0.9089\n",
      "Training [25%]\tLoss: -0.9257\n",
      "Training [30%]\tLoss: -0.9251\n",
      "Training [35%]\tLoss: -0.9385\n",
      "Training [40%]\tLoss: -0.9454\n",
      "Training [45%]\tLoss: -0.9444\n",
      "Training [50%]\tLoss: -0.9503\n",
      "Training [55%]\tLoss: -0.9455\n",
      "Training [60%]\tLoss: -0.9573\n",
      "Training [65%]\tLoss: -0.9627\n",
      "Training [70%]\tLoss: -0.9689\n",
      "Training [75%]\tLoss: -0.9651\n",
      "Training [80%]\tLoss: -0.9724\n",
      "Training [85%]\tLoss: -0.9732\n",
      "Training [90%]\tLoss: -0.9784\n",
      "Training [95%]\tLoss: -0.9744\n",
      "Training [100%]\tLoss: -0.9786\n"
     ]
    }
   ],
   "source": [
    "model = Net()\n",
    "optimizer = optim.Adam(model.parameters(), lr=0.001)\n",
    "loss_func = nn.NLLLoss()\n",
    "\n",
    "epochs = 20\n",
    "loss_list = []\n",
    "\n",
    "model.train()\n",
    "for epoch in range(epochs):\n",
    "    total_loss = []\n",
    "    for batch_idx, (data, target) in enumerate(train_loader):\n",
    "        optimizer.zero_grad()\n",
    "        # Forward pass\n",
    "        output = model(data)\n",
    "        # Calculating loss\n",
    "        loss = loss_func(output, target)\n",
    "        # Backward pass\n",
    "        loss.backward()\n",
    "        # Optimize the weights\n",
    "        optimizer.step()\n",
    "        \n",
    "        total_loss.append(loss.item())\n",
    "    loss_list.append(sum(total_loss)/len(total_loss))\n",
    "    print('Training [{:.0f}%]\\tLoss: {:.4f}'.format(\n",
    "        100. * (epoch + 1) / epochs, loss_list[-1]))"
   ]
  },
  {
   "cell_type": "markdown",
   "id": "54d55d45",
   "metadata": {},
   "source": [
    "### Learning curve:"
   ]
  },
  {
   "cell_type": "code",
   "execution_count": 12,
   "id": "7cce662d",
   "metadata": {},
   "outputs": [
    {
     "data": {
      "text/plain": [
       "Text(0, 0.5, 'Neg Log Likelihood Loss')"
      ]
     },
     "execution_count": 12,
     "metadata": {},
     "output_type": "execute_result"
    },
    {
     "data": {
      "image/png": "[encoded data removed]",
      "text/plain": [
       "<Figure size 640x480 with 1 Axes>"
      ]
     },
     "metadata": {},
     "output_type": "display_data"
    }
   ],
   "source": [
    "plt.plot(loss_list)\n",
    "plt.title('Hybrid NN Training Convergence')\n",
    "plt.xlabel('Training Iterations')\n",
    "plt.ylabel('Neg Log Likelihood Loss')"
   ]
  },
  {
   "cell_type": "markdown",
   "id": "1c04d37e",
   "metadata": {},
   "source": [
    "### Evaluating the model's performance on the test dataset:"
   ]
  },
  {
   "cell_type": "code",
   "execution_count": 13,
   "id": "a958cbd1",
   "metadata": {},
   "outputs": [
    {
     "name": "stdout",
     "output_type": "stream",
     "text": [
      "Performance on test data:\n",
      "\tLoss: -0.9708\n",
      "\tAccuracy: 99.0%\n"
     ]
    }
   ],
   "source": [
    "model.eval()\n",
    "with torch.no_grad():\n",
    "    \n",
    "    correct = 0\n",
    "    for batch_idx, (data, target) in enumerate(test_loader):\n",
    "        output = model(data)\n",
    "        \n",
    "        pred = output.argmax(dim=1, keepdim=True) \n",
    "        correct += pred.eq(target.view_as(pred)).sum().item()\n",
    "        \n",
    "        loss = loss_func(output, target)\n",
    "        total_loss.append(loss.item())\n",
    "        \n",
    "    print('Performance on test data:\\n\\tLoss: {:.4f}\\n\\tAccuracy: {:.1f}%'.format(\n",
    "        sum(total_loss) / len(total_loss),\n",
    "        correct / len(test_loader) * 100)\n",
    "        )"
   ]
  },
  {
   "cell_type": "markdown",
   "id": "a124eeaa",
   "metadata": {},
   "source": [
    "### Some test examples:"
   ]
  },
  {
   "cell_type": "code",
   "execution_count": 14,
   "id": "235688f3",
   "metadata": {},
   "outputs": [
    {
     "data": {
      "image/png": "[encoded data removed]",
      "text/plain": [
       "<Figure size 1000x300 with 8 Axes>"
      ]
     },
     "metadata": {},
     "output_type": "display_data"
    }
   ],
   "source": [
    "n_samples_show = 8\n",
    "count = 0\n",
    "fig, axes = plt.subplots(nrows=1, ncols=n_samples_show, figsize=(10, 3))\n",
    "\n",
    "model.eval()\n",
    "with torch.no_grad():\n",
    "    for batch_idx, (data, target) in enumerate(test_loader):\n",
    "        if count == n_samples_show:\n",
    "            break\n",
    "        output = model(data)\n",
    "        \n",
    "        pred = output.argmax(dim=1, keepdim=True) \n",
    "\n",
    "        axes[count].imshow(data[0].numpy().squeeze(), cmap='gray')\n",
    "\n",
    "        axes[count].set_xticks([])\n",
    "        axes[count].set_yticks([])\n",
    "        axes[count].set_title('Predicted {}'.format(pred.item()))\n",
    "        \n",
    "        count += 1"
   ]
  },
  {
   "cell_type": "markdown",
   "id": "2f73df91",
   "metadata": {},
   "source": [
    "# Versions:"
   ]
  },
  {
   "cell_type": "code",
   "execution_count": 15,
   "id": "e223c2b4",
   "metadata": {},
   "outputs": [
    {
     "data": {
      "text/html": [
       "<h3>Version Information</h3><table><tr><th>Qiskit Software</th><th>Version</th></tr><tr><td>Qiskit</td><td>0.27.0</td></tr><tr><td>Terra</td><td>0.17.4</td></tr><tr><td>Aer</td><td>0.8.2</td></tr><tr><td>Ignis</td><td>0.6.0</td></tr><tr><td>Aqua</td><td>0.9.2</td></tr><tr><td>IBM Q Provider</td><td>0.14.0</td></tr><tr><th>System information</th></tr><tr><td>Python</td><td>3.8.8 (default, Apr 13 2021, 15:08:03) [MSC v.1916 64 bit (AMD64)]</td></tr><tr><td>OS</td><td>Windows</td></tr><tr><td>CPUs</td><td>4</td></tr><tr><td>Memory (Gb)</td><td>7.769077301025391</td></tr><tr><td colspan='2'>Wed Jun 28 12:56:41 2023 India Standard Time</td></tr></table>"
      ],
      "text/plain": [
       "<IPython.core.display.HTML object>"
      ]
     },
     "metadata": {},
     "output_type": "display_data"
    }
   ],
   "source": [
    "import qiskit.tools.jupyter\n",
    "%qiskit_version_table"
   ]
  },
  {
   "cell_type": "code",
   "execution_count": 16,
   "id": "6b5337e4",
   "metadata": {},
   "outputs": [
    {
     "data": {
      "text/plain": [
       "'2.0.1+cpu'"
      ]
     },
     "execution_count": 16,
     "metadata": {},
     "output_type": "execute_result"
    }
   ],
   "source": [
    "torch.__version__"
   ]
  },
  {
   "cell_type": "markdown",
   "id": "da00592e",
   "metadata": {},
   "source": [
    "# References:\n",
    "- https://medium.com/mit-6-s089-intro-to-quantum-computing/a-hybrid-quantum-neural-network-for-mnist-classification-edc8ad28e4ed"
   ]
  }
 ],
 "metadata": {
  "kernelspec": {
   "display_name": "Python 3 (ipykernel)",
   "language": "python",
   "name": "python3"
  },
  "language_info": {
   "codemirror_mode": {
    "name": "ipython",
    "version": 3
   },
   "file_extension": ".py",
   "mimetype": "text/x-python",
   "name": "python",
   "nbconvert_exporter": "python",
   "pygments_lexer": "ipython3",
   "version": "3.8.8"
  }
 },
 "nbformat": 4,
 "nbformat_minor": 5
}
